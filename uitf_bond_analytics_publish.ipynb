{
 "cells": [
  {
   "cell_type": "code",
   "execution_count": 1,
   "metadata": {},
   "outputs": [
    {
     "name": "stderr",
     "output_type": "stream",
     "text": [
      "F:\\Users\\ARJEPAK\\Anaconda3\\envs\\tensorflow_beta1\\lib\\site-packages\\sklearn\\externals\\joblib\\__init__.py:15: DeprecationWarning: sklearn.externals.joblib is deprecated in 0.21 and will be removed in 0.23. Please import this functionality directly from joblib, which can be installed with: pip install joblib. If this warning is raised when loading pickled models, you may need to re-serialize those models with scikit-learn 0.21+.\n",
      "  warnings.warn(msg, category=DeprecationWarning)\n"
     ]
    }
   ],
   "source": [
    "\n",
    "import pandas as pd\n",
    "import numpy as np\n",
    "from sklearn import preprocessing\n",
    "from sklearn.metrics import mean_absolute_error\n",
    "import functools\n",
    "from functools import partial\n",
    "from scipy.stats import norm\n",
    "from parse_uitf_bond import *\n",
    "#### deep learning ####\n",
    "import tensorflow as tf\n",
    "from seaborn import heatmap\n",
    "import numpy as np\n",
    "import os\n",
    "import time\n",
    "from matplotlib import pyplot as plt\n",
    "# hyper-param optimization\n",
    "from skopt.space import Real, Integer\n",
    "from skopt.utils import use_named_args\n",
    "from skopt import gp_minimize\n",
    "from joblib import dump, load\n"
   ]
  },
  {
   "cell_type": "code",
   "execution_count": 2,
   "metadata": {},
   "outputs": [],
   "source": [
    "\n",
    "# page = requests.get('http://www.uitf.com.ph/daily_navpu_details.php?bank_id=3&fund_id=49&fmonth=06&fday=15&fyear=2018&tmonth=09&tday=13&tyear=2018&captcha_uitf=hydropic&btn=Filter#gsc.tab=0')\n",
    "# soup = BeautifulSoup(page.content, 'html.parser')\n",
    "# list(soup.children)\n",
    "# soup.find_all('table')[0].get_text()\n",
    "\n",
    "def fill_data(dframe):\n",
    "    dframe.interpolate(method='linear', inplace=True)\n",
    "    dframe.fillna(method='bfill', inplace=True)\n",
    "    dframe.fillna(method='ffill', inplace=True)\n",
    "    dframe.fillna(value=0, inplace=True)\n",
    "\n",
    "    return\n",
    "\n",
    "def linkopt(namelist,optvalues):\n",
    "    \"\"\"\n",
    "    wrapper to link names and values\n",
    "    \"\"\"\n",
    "    xdict={}\n",
    "    for x,y in zip(namelist,optvalues):\n",
    "        xdict[x]=y\n",
    "    \n",
    "    return xdict\n",
    "\n",
    "def validation(model, train_data, test_data, loss_array, boolmask, **kwargs):\n",
    "    \"\"\"\n",
    "    -->validation test for autoregressive data of single variable, which is premium bond fund\n",
    "    -->It will test the stateful RNNs capacity for autoregression.\n",
    "    model--> trained model\n",
    "    :param: train_data--> train dataset, TimeSequence object\n",
    "    :param: test_data--> test dataset, TimeSequence object\n",
    "    :param: loss_array--> a replicated array based on the future compounded loss\n",
    "    :param: boolmask--> list or array of indices to be masked\n",
    "    :param: return--> the absolute mean of the test_data errors, and a printed value\n",
    "    \"\"\"\n",
    "\n",
    "    model.reset_states()\n",
    "    reshape_sample=tf.reshape(train_data[0][0][-1], (1, train_data[0][0].shape[1], 3))\n",
    "    predictions = model.predict(tf.boolean_mask(\n",
    "        reshape_sample, boolmask, axis=1))\n",
    "\n",
    "    ###start of batch size adjustment###\n",
    "    # get the last index for singular batch for tests.\n",
    "\n",
    "    # create container for the model's test output.\n",
    "    y_pred = []\n",
    "    y_true = []\n",
    "    # shift data and replace\n",
    "    reshape_sample = tf.roll(reshape_sample, -1, axis=1)\n",
    "    reshape_sample=reshape_sample.numpy()\n",
    "    reshape_sample[0][-1] = predictions[0]\n",
    "\n",
    "    for _, test in test_data:\n",
    "        predictions = model.predict(tf.boolean_mask(\n",
    "            reshape_sample, boolmask, axis=1))\n",
    "        y_pred.append(predictions[0][0])\n",
    "        y_true.append(test[0][0])\n",
    "        reshape_sample = np.roll(reshape_sample, -1, axis=1)\n",
    "        reshape_sample[0][-1] = predictions\n",
    "\n",
    "    y_pred = np.array(y_pred)\n",
    "    y_pred = np.multiply(y_pred, loss_array)\n",
    "    y_true = np.array(y_true)\n",
    "    y_true = np.multiply(y_true, loss_array)\n",
    "\n",
    "    return mean_absolute_error(y_true, y_pred)\n",
    "\n",
    "\n",
    "class CustomEarlyStopper:\n",
    "    def __init__(self, patience=3, delta=1e-4):\n",
    "        self.prev_loss = 1e6  # high value heuristic\n",
    "        self.patience = patience\n",
    "        self.delta = delta\n",
    "\n",
    "        # changing values:\n",
    "        self.ctpatience = patience\n",
    "        self.save = 0\n",
    "\n",
    "    def main_decider(self, loss):\n",
    "        \"\"\"\n",
    "        :param: loss\n",
    "        \"\"\"\n",
    "        if (loss > self.prev_loss):\n",
    "            if (loss - self.prev_loss > self.delta):\n",
    "                return 1\n",
    "            else:\n",
    "                if (self.ctpatience > 0):\n",
    "                    self.ctpatience += -1\n",
    "                    return 0\n",
    "                else:\n",
    "                    return 1\n",
    "        else:\n",
    "            self.prev_loss = loss\n",
    "            self.save = 1\n",
    "            return 0\n",
    "\n",
    "def modelfixweight(model, train_data , target_data, class_weight, epoch_internal, **kwargs):\n",
    "    \"\"\"\n",
    "    functional wrapper for model.fit() to fix the class_weight prior to partial transformation\n",
    "    :return: history object\n",
    "    \"\"\"\n",
    "    return model.fit(train_data,\n",
    "                    target_data,\n",
    "                    epochs=epoch_internal,\n",
    "                    class_weight=class_weight)\n",
    "\n",
    "def form_dataset(normalized_data, est_period, **kwargs):\n",
    "\n",
    "    percent_validation = kwargs.pop('percent_validation', 0.8)\n",
    "\n",
    "    rel_norm=normalized_data\n",
    "\n",
    "    # end_index=(int(((rel_norm.shape[0]-est_period)*0.9)//batch_size))*batch_size-2\n",
    "\n",
    "    # batch size to be changed to 1\n",
    "    # end_index_test=(\n",
    "    #     (rel_norm.shape[0] - 1 - end_index) // batch_size) * batch_size + end_index -1\n",
    "\n",
    "    end_index = int((rel_norm.shape[0]-est_period-1)*percent_validation)+est_period-1\n",
    "\n",
    "    tser_rel_train = tf.keras.preprocessing.sequence.TimeseriesGenerator(rel_norm, rel_norm,\n",
    "                                                                        length=est_period,\n",
    "                                                                        sampling_rate=1,\n",
    "                                                                        end_index=end_index)\n",
    "\n",
    "    tser_rel_test = tf.keras.preprocessing.sequence.TimeseriesGenerator(rel_norm, rel_norm,\n",
    "                                                                        length=est_period,\n",
    "                                                                        sampling_rate=1,\n",
    "                                                                        batch_size=1,\n",
    "                                                                        start_index=end_index-19)\n",
    "\n",
    "    return tser_rel_train, tser_rel_test   \n",
    "\n",
    "def train_evaluate(normalized_data, est_period,loss_func,param_record, **kwargs):\n",
    "    \"\"\"\n",
    "    :param: train_data---> train dataset, TimeSequence object\n",
    "    :param: test_data---> test dataset, TimeSequence object\n",
    "    :param: loss_func---> loss function, function\n",
    "    \"\"\"\n",
    "    global global_training_loss\n",
    "    masked_indices=kwargs.pop('masked_indices',[4,6,7,9,10,11,12,14,15])\n",
    "    \n",
    "    train_data, test_data= form_dataset(normalized_data, est_period)\n",
    "    boolmask=np.full(est_period,True)\n",
    "    boolmask[masked_indices]=False\n",
    "\n",
    "    model_dir = \"./training_0\"\n",
    "    # Name of the checkpoint files\n",
    "    model_prefix = os.path.join(model_dir, \"best.model\")\n",
    "\n",
    "    load_model=kwargs.pop('load_model', False)\n",
    "\n",
    "    future_loss = kwargs.pop('future_loss', 0.9)\n",
    "\n",
    "    model = tf.keras.Sequential()\n",
    "    model.add(tf.keras.layers.Dense(kwargs.pop('input_layer',7),  \n",
    "        input_shape=(tf.boolean_mask(train_data[0][0],boolmask,axis=1).shape[1], \n",
    "            train_data[0][0].shape[2]),  \n",
    "        kernel_initializer='he_normal',\n",
    "        kernel_regularizer=tf.keras.regularizers.l1(\n",
    "        l=kwargs.pop('uni_reg', 0)),\n",
    "        use_bias=True))\n",
    "    model.add(tf.keras.layers.Dense(kwargs.pop('hidden_1',1),    \n",
    "        kernel_initializer='he_normal',\n",
    "        kernel_regularizer=tf.keras.regularizers.l1(\n",
    "            l=kwargs.pop('hidden_reg', 0)),\n",
    "        use_bias=True))\n",
    "    model.add(tf.keras.layers.Dropout(rate = kwargs.pop('dropout_rate',0)))\n",
    "    model.add(tf.keras.layers.Flatten())\n",
    "    model.add(tf.keras.layers.Dense(3,    \n",
    "        kernel_initializer='he_normal',\n",
    "        kernel_regularizer=tf.keras.regularizers.l1(\n",
    "            l=kwargs.pop('hidden_reg', 0)),\n",
    "        use_bias=True))   \n",
    "\n",
    "    xadam=tf.keras.optimizers.Adam(learning_rate=1e-4)\n",
    "    model.compile(\n",
    "        optimizer=xadam,\n",
    "        loss=loss)\n",
    "\n",
    "    dump(param_record, 'hyper_param.joblib') \n",
    "    if (load_model==True): #feature is not developed yet.\n",
    "        model.load_weights(model_prefix)\n",
    "    # will create improvised early stopper\n",
    "    # lowest_loss = 1e6  # high value heuristic\n",
    "    # patience = 8\n",
    "\n",
    "\n",
    "    ct = 0\n",
    "\n",
    "    for _ in test_data:\n",
    "        ct += 1\n",
    "\n",
    "    powcoeffs = np.arange(ct)\n",
    "    loss_base = np.full(ct,future_loss)\n",
    "    loss_array = np.power(loss_base, powcoeffs)\n",
    "    #loss_array=loss_array.reshape(loss_array.shape[0],1)\n",
    "    #static_values and hyperparameters\n",
    "    # initalize early stopping object\n",
    "    sigma = kwargs.pop('sigma', 1.55)\n",
    "    earlystopper0 = CustomEarlyStopper(\n",
    "        delta=1-norm.cdf(sigma, loc=0, scale=1) + norm.cdf(-sigma, loc=0, scale=1), patience=8)\n",
    "    class_weight = kwargs.pop('class_weight', {0: 0.6, 1: 0.1, 2: 0.3})\n",
    "    epochs = kwargs.pop('epochs', 34)\n",
    "\n",
    "    ctepochs = 0\n",
    "\n",
    "    # initialize the mean_loss\n",
    "    epoch_internal = kwargs.pop('epoch_internal', 1)\n",
    "    efftrainblock = partial(\n",
    "        modelfixweight, class_weight=class_weight, model=model, epoch_internal = epoch_internal)\n",
    "\n",
    "    history = efftrainblock(train_data=tf.boolean_mask(train_data[0][0],boolmask,axis=1), target_data=train_data[0][1])\n",
    "    mean_loss = validation(model, train_data, test_data, loss_array, boolmask)\n",
    "\n",
    "    while(earlystopper0.main_decider(mean_loss) == 0 and ctepochs < epochs):\n",
    "        if (earlystopper0.save == 1):\n",
    "            model.save_weights(model_prefix)\n",
    "            global_training_loss=history.history['loss'][0]\n",
    "            earlystopper0.save = 0\n",
    "        history = efftrainblock(train_data=tf.boolean_mask(train_data[0][0],boolmask,axis=1), target_data=train_data[0][1])\n",
    "#         history=model.fit(train_data,\n",
    "#             epochs=1,\n",
    "#             class_weight=class_weight)\n",
    "\n",
    "        # check if history has the current output\n",
    "        mean_loss = validation(model, train_data, test_data, loss_array, boolmask)        \n",
    "        print('epoch {} mean_loss = {}'.format(ctepochs, mean_loss))\n",
    "\n",
    "        ctepochs += epoch_internal\n",
    "\n",
    "    # return loss of best model    \n",
    "    model.load_weights(model_prefix)\n",
    "    mean_loss = validation(model, train_data, test_data, loss_array, boolmask)\n",
    "\n",
    "    return mean_loss\n",
    "\n"
   ]
  },
  {
   "cell_type": "code",
   "execution_count": 3,
   "metadata": {},
   "outputs": [],
   "source": [
    "dfrel=pd.read_csv('fin_normdataset.csv',parse_dates=True,index_col=0)"
   ]
  },
  {
   "cell_type": "code",
   "execution_count": 5,
   "metadata": {},
   "outputs": [],
   "source": [
    "dfrel.loc[:, 'inflation'].interpolate(\n",
    "    method='linear', limit_area='inside').dropna().to_csv('inflation_actual_f.csv', header=True)"
   ]
  },
  {
   "cell_type": "code",
   "execution_count": 6,
   "metadata": {},
   "outputs": [],
   "source": [
    "def get_outernan(column):\n",
    "    \"\"\"\n",
    "    returns a tuple with no. of timesteps to forecast forward and backward\n",
    "    \"\"\"\n",
    "    zerolist=np.nonzero(column.notnull().values)\n",
    "    return (zerolist[0][0],column.shape[0]-zerolist[0][-1]-1)"
   ]
  },
  {
   "cell_type": "code",
   "execution_count": 7,
   "metadata": {},
   "outputs": [],
   "source": [
    "dftemp = pd.read_csv('pb_forecast_f.csv', index_col=None)\n",
    "get_outernan(dfrel.loc[:, 'inflation']) #gets the x and y values\n",
    "\n",
    "dfrel.iloc[-15:, 2] = dftemp.loc[:, 'Point Forecast'].values\n",
    "\n",
    "dftemp = pd.read_csv('pb_forecast_b.csv', index_col=None)\n",
    "dfrel.iloc[:6, 2][::-1] = dftemp.loc[:, 'Point Forecast'].values \n",
    "\n",
    "fill_data(dfrel) #fills the missing data through forward, backwards fill, and linear interpolation"
   ]
  },
  {
   "cell_type": "code",
   "execution_count": 8,
   "metadata": {},
   "outputs": [
    {
     "data": {
      "text/plain": [
       "array([<matplotlib.axes._subplots.AxesSubplot object at 0x00000205DA428E10>,\n",
       "       <matplotlib.axes._subplots.AxesSubplot object at 0x00000205DA6E0DA0>,\n",
       "       <matplotlib.axes._subplots.AxesSubplot object at 0x00000205DA71B0F0>],\n",
       "      dtype=object)"
      ]
     },
     "execution_count": 8,
     "metadata": {},
     "output_type": "execute_result"
    },
    {
     "data": {
      "image/png": "[encoded data removed]",
      "text/plain": [
       "<Figure size 720x1296 with 3 Axes>"
      ]
     },
     "metadata": {
      "needs_background": "light"
     },
     "output_type": "display_data"
    }
   ],
   "source": [
    "\n",
    "dfrel.plot(subplots=True, figsize=(10, 6*3), grid=True)\n"
   ]
  },
  {
   "cell_type": "code",
   "execution_count": 9,
   "metadata": {},
   "outputs": [
    {
     "data": {
      "text/plain": [
       "<matplotlib.axes._subplots.AxesSubplot at 0x205dabaac88>"
      ]
     },
     "execution_count": 9,
     "metadata": {},
     "output_type": "execute_result"
    },
    {
     "data": {
      "image/png": "[encoded data removed]",
      "text/plain": [
       "<Figure size 432x288 with 2 Axes>"
      ]
     },
     "metadata": {
      "needs_background": "light"
     },
     "output_type": "display_data"
    }
   ],
   "source": [
    "dfcorr = dfrel.corr()\n",
    "heatmap(dfrel.corr())"
   ]
  },
  {
   "cell_type": "code",
   "execution_count": 10,
   "metadata": {},
   "outputs": [
    {
     "data": {
      "text/html": [
       "<div>\n",
       "<style scoped>\n",
       "    .dataframe tbody tr th:only-of-type {\n",
       "        vertical-align: middle;\n",
       "    }\n",
       "\n",
       "    .dataframe tbody tr th {\n",
       "        vertical-align: top;\n",
       "    }\n",
       "\n",
       "    .dataframe thead th {\n",
       "        text-align: right;\n",
       "    }\n",
       "</style>\n",
       "<table border=\"1\" class=\"dataframe\">\n",
       "  <thead>\n",
       "    <tr style=\"text-align: right;\">\n",
       "      <th></th>\n",
       "      <th>mutual_unit</th>\n",
       "      <th>stock_exchange</th>\n",
       "      <th>inflation</th>\n",
       "    </tr>\n",
       "  </thead>\n",
       "  <tbody>\n",
       "    <tr>\n",
       "      <th>mutual_unit</th>\n",
       "      <td>0.380704</td>\n",
       "      <td>0.315471</td>\n",
       "      <td>0.303826</td>\n",
       "    </tr>\n",
       "  </tbody>\n",
       "</table>\n",
       "</div>"
      ],
      "text/plain": [
       "             mutual_unit  stock_exchange  inflation\n",
       "mutual_unit     0.380704        0.315471   0.303826"
      ]
     },
     "execution_count": 10,
     "metadata": {},
     "output_type": "execute_result"
    }
   ],
   "source": [
    "dftemp00 = dfcorr.loc[:'mutual_unit'].abs()\n",
    "sumvars = dftemp00.apply(sum, axis=1)\n",
    "dftemp00/sumvars.values[0]"
   ]
  },
  {
   "cell_type": "code",
   "execution_count": 11,
   "metadata": {},
   "outputs": [],
   "source": [
    "\n",
    "#scaler_obj = preprocessing.StandardScaler().fit(dfrel.values)\n"
   ]
  },
  {
   "cell_type": "code",
   "execution_count": 12,
   "metadata": {},
   "outputs": [],
   "source": [
    "\n",
    "\n",
    "#rel_norm = scaler_obj.transform(dfrel.values)\n",
    "\n"
   ]
  },
  {
   "cell_type": "code",
   "execution_count": 13,
   "metadata": {},
   "outputs": [],
   "source": [
    "\n",
    "rel_norm = dfrel.values.astype('float32')  # expected tensor data type\n",
    "\n"
   ]
  },
  {
   "cell_type": "code",
   "execution_count": 14,
   "metadata": {},
   "outputs": [],
   "source": [
    "\n",
    "def loss(explanvar, targetvar):\n",
    "    return tf.keras.metrics.mean_absolute_error(\n",
    "        explanvar,\n",
    "        targetvar)\n",
    "\n"
   ]
  },
  {
   "cell_type": "code",
   "execution_count": 15,
   "metadata": {},
   "outputs": [],
   "source": [
    "\n",
    "\n",
    "# define patch global variable for loss value with best mean_loss\n",
    "global_training_loss=1e6\n",
    "\n"
   ]
  },
  {
   "cell_type": "code",
   "execution_count": 16,
   "metadata": {},
   "outputs": [],
   "source": [
    "space = [Integer(2, 21, name='input_layer'), #number of neurons in input layer\n",
    "        Integer(1,3, name='hidden_1'),       #number of neurons in the 1st hidden layer\n",
    "        Real(0.0, 0.3, name='navpu_infl'),   #adjustment of class weighting in the mutual_unit(navpu) and the inflation. \n",
    "        Real(0.0, 0.8, name='uni_reg'),      # regularization factor in the 1st hidden layer \n",
    "        Real(0.0, 0.5, name='dropout_rate'), #dropout fraction on the weights outside the 1st hidden layer\n",
    "        Real(0.0, 0.8, name='hidden_reg'),   #regularization at the final layer\n",
    "        ]\n"
   ]
  },
  {
   "cell_type": "code",
   "execution_count": 17,
   "metadata": {},
   "outputs": [],
   "source": [
    "# create partial function for train_evaluate for efficiency in calls\n",
    "hyp_train_eval = partial(train_evaluate, rel_norm, loss_func=loss, percent_validation=0.8,\n",
    "                         epochs=750, est_period= 20, sigma=1.3, load_model=False, epoch_internal=5) \n",
    "#load_model may require persistence"
   ]
  },
  {
   "cell_type": "code",
   "execution_count": 18,
   "metadata": {},
   "outputs": [],
   "source": [
    "\n",
    "@use_named_args(space)\n",
    "def objective(**outparams):\n",
    "\n",
    "    class_weight = {0: 0.7 - outparams['navpu_infl'],\n",
    "                    1: 0.3, 2: outparams['navpu_infl']}\n",
    "    return hyp_train_eval(class_weight=class_weight, \n",
    "            hidden_1=outparams['hidden_1'],\n",
    "            hidden_reg=outparams['hidden_reg'],\n",
    "            input_layer=outparams['input_layer'],\n",
    "            uni_reg=outparams['uni_reg'],\n",
    "            dropout_rate=outparams['dropout_rate'], \n",
    "            param_record=outparams)\n",
    "\n"
   ]
  },
  {
   "cell_type": "code",
   "execution_count": 19,
   "metadata": {},
   "outputs": [],
   "source": [
    "\n",
    "res = gp_minimize(objective,                  # the function to minimize\n",
    "                  space,      # the bounds on each dimension of x\n",
    "                  acq_func=\"LCB\",      # the acquisition function\n",
    "                  n_calls=78,         # the number of evaluations of f #78\n",
    "                  n_random_starts=5,  # the number of random initialization points\n",
    "                  random_state=0)   # the random seed\n",
    "\n"
   ]
  },
  {
   "cell_type": "code",
   "execution_count": 20,
   "metadata": {},
   "outputs": [],
   "source": [
    "print(res.x)\n",
    "\n",
    "dump((space,res.x,res),'hyperparam_best.joblib')\n"
   ]
  },
  {
   "cell_type": "code",
   "execution_count": 21,
   "metadata": {},
   "outputs": [],
   "source": [
    "#rerun optimization using new parameters\n",
    "_,optvalues,resobj=load('hyperparam_best.joblib')\n",
    "\n",
    "outparams=linkopt(['input_layer','hidden_1','navpu_infl','uni_reg','dropout_rate','hidden_reg'],optvalues)\n"
   ]
  },
  {
   "cell_type": "code",
   "execution_count": 22,
   "metadata": {},
   "outputs": [],
   "source": [
    "#TODO: transform to object to save pair of validation loss and training loss\n",
    "hyp_train_eval = partial(train_evaluate, rel_norm, loss_func=loss, percent_validation=0.8,\n",
    "                         epochs=750, est_period= 20, sigma=1.3, load_model=False, epoch_internal=5)"
   ]
  },
  {
   "cell_type": "code",
   "execution_count": 23,
   "metadata": {},
   "outputs": [],
   "source": [
    "\n",
    "##optimization via random initialization changing seeds####\n",
    "acc_sigma=np.min(resobj.func_vals)\n"
   ]
  },
  {
   "cell_type": "code",
   "execution_count": 24,
   "metadata": {},
   "outputs": [],
   "source": [
    "\n",
    "ct=0\n",
    "mean_loss=1e6 ##starting value\n",
    "while (mean_loss > acc_sigma):\n",
    "    class_weight = {0: 0.7 - outparams['navpu_infl'],\n",
    "                    1: 0.3, 2: outparams['navpu_infl']}\n",
    "    mean_loss = hyp_train_eval(class_weight=class_weight, \n",
    "            hidden_1=outparams['hidden_1'],\n",
    "            hidden_reg=outparams['hidden_reg'],\n",
    "            input_layer=outparams['input_layer'],\n",
    "            uni_reg=outparams['uni_reg'],\n",
    "            dropout_rate=outparams['dropout_rate'], \n",
    "            param_record=outparams)\n",
    "    ct+=1\n",
    "\n",
    "print('Target loss achieved with validation loss of {} after {} iterations'.format(mean_loss, ct))\n",
    "\n"
   ]
  },
  {
   "cell_type": "code",
   "execution_count": 25,
   "metadata": {},
   "outputs": [],
   "source": [
    "\n",
    "\n",
    "### load the saved model and correctly train with full training dataset ###\n",
    "\n",
    "est_period = 20\n",
    "train_data = tf.keras.preprocessing.sequence.TimeseriesGenerator(rel_norm, rel_norm,\n",
    "                                                                     length=est_period,\n",
    "                                                                     sampling_rate=1)\n",
    "masked_indices=[4,6,7,9,10,11,12,14,15]\n",
    "boolmask=np.full(est_period,True)\n",
    "boolmask[masked_indices]=False\n",
    "# rebuild model\n",
    "model = tf.keras.Sequential()\n",
    "model.add(tf.keras.layers.Dense(outparams['input_layer'],  \n",
    "    input_shape=(tf.boolean_mask(train_data[0][0],boolmask,axis=1).shape[1], \n",
    "        train_data[0][0].shape[2]),  \n",
    "    kernel_initializer='he_normal',\n",
    "    kernel_regularizer=tf.keras.regularizers.l1(\n",
    "    l=outparams['uni_reg']),\n",
    "    use_bias=True))\n",
    "model.add(tf.keras.layers.Dense(outparams['hidden_1'],    \n",
    "    kernel_initializer='he_normal',\n",
    "    kernel_regularizer=tf.keras.regularizers.l1(\n",
    "        l=outparams['hidden_reg']),\n",
    "    use_bias=True))\n",
    "model.add(tf.keras.layers.Dropout(rate = outparams['dropout_rate']))\n",
    "model.add(tf.keras.layers.Flatten())\n",
    "model.add(tf.keras.layers.Dense(3,    \n",
    "    kernel_initializer='he_normal',\n",
    "    kernel_regularizer=tf.keras.regularizers.l1(\n",
    "        l=outparams['hidden_reg']),\n",
    "    use_bias=True))   \n",
    "\n",
    "xadam=tf.keras.optimizers.Adam(learning_rate=1e-4)\n",
    "model.compile(\n",
    "    optimizer=xadam,\n",
    "    loss=loss)\n",
    "\n",
    "model_dir = \"./training_0\"\n",
    "model_prefix = os.path.join(model_dir, \"best.model\")\n",
    "\n",
    "model.load_weights(model_prefix)"
   ]
  },
  {
   "cell_type": "code",
   "execution_count": 26,
   "metadata": {},
   "outputs": [],
   "source": [
    "global_training_loss=7.7029\n",
    "epoch_internal = 5\n",
    "efftrainblock = partial(\n",
    "    modelfixweight, class_weight=class_weight, model=model, epoch_internal = epoch_internal)\n",
    "#initialize\n",
    "history = efftrainblock(train_data=tf.boolean_mask(\n",
    "    train_data[0][0], boolmask, axis=1), target_data=train_data[0][1])\n",
    "\n",
    "while (history.history['loss'][0] > global_training_loss):\n",
    "    history = efftrainblock(train_data=tf.boolean_mask(\n",
    "        train_data[0][0], boolmask, axis=1), target_data=train_data[0][1])\n",
    "\n",
    "model_dir = \"./training_0\"\n",
    "model_prefix = os.path.join(model_dir, \"final.model\")\n",
    "\n",
    "model.save_weights(model_prefix)\n"
   ]
  },
  {
   "cell_type": "markdown",
   "metadata": {},
   "source": [
    "## Validation procedure"
   ]
  },
  {
   "cell_type": "code",
   "execution_count": 27,
   "metadata": {},
   "outputs": [
    {
     "name": "stderr",
     "output_type": "stream",
     "text": [
      "WARNING: Logging before flag parsing goes to stderr.\n",
      "W0824 00:12:17.129795  9500 deprecation.py:323] From F:\\Users\\ARJEPAK\\Anaconda3\\envs\\tensorflow_beta1\\lib\\site-packages\\tensorflow\\python\\ops\\array_ops.py:1340: add_dispatch_support.<locals>.wrapper (from tensorflow.python.ops.array_ops) is deprecated and will be removed in a future version.\n",
      "Instructions for updating:\n",
      "Use tf.where in 2.0, which has the same broadcast rule as np.where\n"
     ]
    },
    {
     "data": {
      "text/plain": [
       "<tensorflow.python.training.tracking.util.CheckpointLoadStatus at 0x2064bc512e8>"
      ]
     },
     "execution_count": 27,
     "metadata": {},
     "output_type": "execute_result"
    }
   ],
   "source": [
    "est_period = 20\n",
    "percent_validation=0.8\n",
    "end_index = int((rel_norm.shape[0]-est_period-1)*percent_validation)+est_period-1\n",
    "\n",
    "train_data = tf.keras.preprocessing.sequence.TimeseriesGenerator(rel_norm, rel_norm,\n",
    "                                                                    length=est_period,\n",
    "                                                                    sampling_rate=1,\n",
    "                                                                    end_index=end_index)\n",
    "\n",
    "tser_rel_test = tf.keras.preprocessing.sequence.TimeseriesGenerator(rel_norm, rel_norm,\n",
    "                                                                    length=est_period,\n",
    "                                                                    sampling_rate=1,\n",
    "                                                                    batch_size=1,\n",
    "                                                                    start_index=end_index-19)\n",
    "\n",
    "masked_indices=[4,6,7,9,10,11,12,14,15]\n",
    "boolmask=np.full(est_period,True)\n",
    "boolmask[masked_indices]=False\n",
    "# rebuild model\n",
    "model = tf.keras.Sequential()\n",
    "model.add(tf.keras.layers.Dense(outparams['input_layer'],  \n",
    "    input_shape=(tf.boolean_mask(train_data[0][0],boolmask,axis=1).shape[1], \n",
    "        train_data[0][0].shape[2]),  \n",
    "    kernel_initializer='he_normal',\n",
    "    kernel_regularizer=tf.keras.regularizers.l1(\n",
    "    l=outparams['uni_reg']),\n",
    "    use_bias=True))\n",
    "model.add(tf.keras.layers.Dense(outparams['hidden_1'],    \n",
    "    kernel_initializer='he_normal',\n",
    "    kernel_regularizer=tf.keras.regularizers.l1(\n",
    "        l=outparams['hidden_reg']),\n",
    "    use_bias=True))\n",
    "model.add(tf.keras.layers.Dropout(rate = outparams['dropout_rate']))\n",
    "model.add(tf.keras.layers.Flatten())\n",
    "model.add(tf.keras.layers.Dense(3,    \n",
    "    kernel_initializer='he_normal',\n",
    "    kernel_regularizer=tf.keras.regularizers.l1(\n",
    "        l=outparams['hidden_reg']),\n",
    "    use_bias=True))   \n",
    "\n",
    "xadam=tf.keras.optimizers.Adam(learning_rate=1e-4)\n",
    "model.compile(\n",
    "    optimizer=xadam,\n",
    "    loss=loss)\n",
    "\n",
    "model_dir = \"./training_0\"\n",
    "model_prefix = os.path.join(model_dir, \"best.model\")\n",
    "\n",
    "model.load_weights(model_prefix)"
   ]
  },
  {
   "cell_type": "code",
   "execution_count": 28,
   "metadata": {},
   "outputs": [],
   "source": [
    "\n",
    "def forecast_steps(num_steps,train_data,boolmask,model):\n",
    "    model.reset_states()\n",
    "    reshape_sample=tf.reshape(train_data[0][0][-1], (1, train_data[0][0].shape[1], 3))\n",
    "    predictions = model.predict(tf.boolean_mask(\n",
    "        reshape_sample, boolmask, axis=1))\n",
    "\n",
    "    ###start of batch size adjustment###\n",
    "    # get the last index for singular batch for tests.\n",
    "\n",
    "    # create container for the model's test output.\n",
    "    y_pred = []\n",
    "    # shift data and replace\n",
    "    reshape_sample = tf.roll(reshape_sample, -1, axis=1)\n",
    "    reshape_sample=reshape_sample.numpy()\n",
    "    reshape_sample[0][-1] = predictions[0]\n",
    "\n",
    "    for _ in range(num_steps):\n",
    "        predictions = model.predict(tf.boolean_mask(\n",
    "            reshape_sample, boolmask, axis=1))\n",
    "        y_pred.append(predictions[0][0])\n",
    "        reshape_sample = np.roll(reshape_sample, -1, axis=1)\n",
    "        reshape_sample[0][-1] = predictions\n",
    "    return y_pred"
   ]
  },
  {
   "cell_type": "code",
   "execution_count": 29,
   "metadata": {},
   "outputs": [],
   "source": [
    "y_pred = forecast_steps(10,train_data,boolmask,model)"
   ]
  },
  {
   "cell_type": "code",
   "execution_count": 31,
   "metadata": {},
   "outputs": [
    {
     "name": "stdout",
     "output_type": "stream",
     "text": [
      "10\n"
     ]
    }
   ],
   "source": [
    "ct=0\n",
    "for x in tser_rel_test:\n",
    "    ct+=1\n",
    "print(ct)"
   ]
  },
  {
   "cell_type": "code",
   "execution_count": 33,
   "metadata": {},
   "outputs": [],
   "source": [
    "def combine_orig_data(y_pred,dframe):\n",
    "    a=pd.bdate_range(start=dframe.index[-1]+pd.Timedelta('1D'),periods=len(y_pred))\n",
    "    newindex=pd.DatetimeIndex.append(dframe.index,a)\n",
    "    y_pred = np.array(y_pred)\n",
    "    filler=np.full((y_pred.reshape(-1,1).shape[0],2),0)\n",
    "    pred_array=np.concatenate([y_pred.reshape(-1,1),filler],axis=1)\n",
    "    dframe=dframe.append(pd.DataFrame(pred_array),sort=False) #new object created due to assignment operator\n",
    "    dframe.index=newindex #the new object is then modified\n",
    "    dframe.drop([1,2],axis=1,inplace=True)\n",
    "    return dframe"
   ]
  },
  {
   "cell_type": "code",
   "execution_count": 35,
   "metadata": {},
   "outputs": [],
   "source": [
    "dfrel2=combine_orig_data(y_pred,dfrel.iloc[:-10,:])"
   ]
  },
  {
   "cell_type": "code",
   "execution_count": 43,
   "metadata": {},
   "outputs": [],
   "source": [
    "dfcompare=pd.concat([dfrel2.loc[:,0],dfrel.loc[:,'mutual_unit']],axis=1)"
   ]
  },
  {
   "cell_type": "code",
   "execution_count": 45,
   "metadata": {},
   "outputs": [],
   "source": [
    "dfcompare.columns=['mutual_unit_forecast','mutual_unit']"
   ]
  },
  {
   "cell_type": "code",
   "execution_count": 46,
   "metadata": {},
   "outputs": [
    {
     "data": {
      "text/plain": [
       "<matplotlib.axes._subplots.AxesSubplot at 0x206588ba1d0>"
      ]
     },
     "execution_count": 46,
     "metadata": {},
     "output_type": "execute_result"
    },
    {
     "data": {
      "image/png": "[encoded data removed]",
      "text/plain": [
       "<Figure size 720x432 with 1 Axes>"
      ]
     },
     "metadata": {
      "needs_background": "light"
     },
     "output_type": "display_data"
    }
   ],
   "source": [
    "dfcompare.plot(figsize=(10,6),grid=True)"
   ]
  }
 ],
 "metadata": {
  "file_extension": ".py",
  "kernelspec": {
   "display_name": "Python 3",
   "language": "python",
   "name": "python3"
  },
  "language_info": {
   "codemirror_mode": {
    "name": "ipython",
    "version": 3
   },
   "file_extension": ".py",
   "mimetype": "text/x-python",
   "name": "python",
   "nbconvert_exporter": "python",
   "pygments_lexer": "ipython3",
   "version": "3.6.8"
  },
  "mimetype": "text/x-python",
  "name": "python",
  "npconvert_exporter": "python",
  "pygments_lexer": "ipython3",
  "version": 3
 },
 "nbformat": 4,
 "nbformat_minor": 2
}
